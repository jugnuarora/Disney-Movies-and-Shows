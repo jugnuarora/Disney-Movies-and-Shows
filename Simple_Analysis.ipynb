{
 "cells": [
  {
   "attachments": {},
   "cell_type": "markdown",
   "metadata": {},
   "source": [
    "# Disney+ Movies and TV Shows #\n"
   ]
  },
  {
   "attachments": {},
   "cell_type": "markdown",
   "metadata": {},
   "source": [
    "1. The Dataset contains information about TV Shows and Movies\n",
    "2. We will segregate the dataset into two - TV Shows and Movies\n",
    "3. Within each dataset, identify how many entries are there for each ratings? Which rating has the maximum count in both datasets?\n",
    "4. What is the average duration of Movies and TV Shows?\n",
    "5. In which month over the years are maximum number of movies released?"
   ]
  },
  {
   "attachments": {},
   "cell_type": "markdown",
   "metadata": {},
   "source": [
    "## Data Dictionary ##"
   ]
  },
  {
   "cell_type": "markdown",
   "metadata": {},
   "source": [
    "1. show_id - Unique id\n",
    "2. type - Movie or TV Show\n",
    "3. title - Name of the movie/show\n",
    "4. director - Directors of the movie/show\n",
    "5. cast - Main cast of the moview/show\n",
    "6. country - Country of production\n",
    "7. date_Added - Date added on Disney+\n",
    "8. release_year - Original Release Year of the moview/tv show\n",
    "9. rating - Rating of the movie/show \n",
    "10. duration - Total duration of the moview/show"
   ]
  },
  {
   "attachments": {},
   "cell_type": "markdown",
   "metadata": {},
   "source": [
    "## Step 1: Read the file and display first 5 rows ##"
   ]
  },
  {
   "cell_type": "code",
   "execution_count": 7,
   "metadata": {},
   "outputs": [],
   "source": [
    "from csv import reader\n",
    "opened_file = open('.\\Data\\disney_plus_titles.csv', encoding=\"utf-8\")\n",
    "read_file = reader(opened_file)\n",
    "dp = list(read_file)\n",
    "dp_header = dp[0]\n",
    "dp = dp[1:]"
   ]
  },
  {
   "cell_type": "code",
   "execution_count": 41,
   "metadata": {},
   "outputs": [],
   "source": [
    "def explore_data(data_list_l, start_l, end_l, rows_and_columns_l=False):\n",
    "    data_slice_l = data_list_l[start_l:end_l]\n",
    "    for row_l in data_slice_l:\n",
    "        print(row_l)\n",
    "        print('\\n')\n",
    "        \n",
    "    if rows_and_columns_l:\n",
    "        print('no. of rows:', len(data_list_l))\n",
    "        print('no. of columns:', len(data_list_l[0]))"
   ]
  },
  {
   "cell_type": "code",
   "execution_count": 42,
   "metadata": {},
   "outputs": [
    {
     "name": "stdout",
     "output_type": "stream",
     "text": [
      "['show_id', 'type', 'title', 'director', 'cast', 'country', 'date_added', 'release_year', 'rating', 'duration', 'listed_in', 'description']\n"
     ]
    }
   ],
   "source": [
    "print(dp_header)"
   ]
  },
  {
   "cell_type": "code",
   "execution_count": 43,
   "metadata": {},
   "outputs": [
    {
     "name": "stdout",
     "output_type": "stream",
     "text": [
      "['s1', 'Movie', 'Duck the Halls: A Mickey Mouse Christmas Special', 'Alonso Ramirez Ramos, Dave Wasson', 'Chris Diamantopoulos, Tony Anselmo, Tress MacNeille, Bill Farmer, Russi Taylor, Corey Burton', '', 'November 26, 2021', '2016', 'TV-G', '23', 'Animation, Family', 'Join Mickey and the gang as they duck the halls!']\n",
      "\n",
      "\n",
      "['s2', 'Movie', 'Ernest Saves Christmas', 'John Cherry', 'Jim Varney, Noelle Parker, Douglas Seale', '', 'November 26, 2021', '1988', 'PG', '91', 'Comedy', 'Santa Claus passes his magic bag to a new St. Nic.']\n",
      "\n",
      "\n",
      "['s3', 'Movie', 'Ice Age: A Mammoth Christmas', 'Karen Disher', 'Raymond Albert Romano, John Leguizamo, Denis Leary, Queen Latifah', 'United States', 'November 26, 2021', '2011', 'TV-G', '23', 'Animation, Comedy, Family', \"Sid the Sloth is on Santa's naughty list.\"]\n",
      "\n",
      "\n",
      "['s4', 'Movie', 'The Queen Family Singalong', 'Hamish Hamilton', 'Darren Criss, Adam Lambert, Derek Hough, Alexander Jean, Fall Out Boy, Jimmie Allen', '', 'November 26, 2021', '2021', 'TV-PG', '41', 'Musical', 'This is real life, not just fantasy!']\n",
      "\n",
      "\n",
      "['s5', 'TV Show', 'The Beatles: Get Back', '', 'John Lennon, Paul McCartney, George Harrison, Ringo Starr', '', 'November 25, 2021', '2021', '', '1 Season', 'Docuseries, Historical, Music', 'A three-part documentary from Peter Jackson capturing a moment in music history with The Beatles.']\n",
      "\n",
      "\n",
      "no. of rows: 1450\n",
      "no. of columns: 12\n"
     ]
    }
   ],
   "source": [
    "explore_data(dp,0,5,True)"
   ]
  },
  {
   "attachments": {},
   "cell_type": "markdown",
   "metadata": {},
   "source": [
    "## Step 2: Separate Movies and TV Shows ##\n",
    "\n",
    "Currently the dataset is clean. We can make it a bit dirty by having different values in type. like \"Movie - Fairy Tale\", \"Movie - Adventure\" and so on."
   ]
  },
  {
   "cell_type": "code",
   "execution_count": 44,
   "metadata": {},
   "outputs": [],
   "source": [
    "disney_movies = []\n",
    "disney_shows = []\n",
    "others = []\n",
    "\n",
    "for row in dp:\n",
    "    type = row[1].lower()\n",
    "    if type.startswith(\"movie\"):\n",
    "        disney_movies.append(row)\n",
    "    elif type.startswith(\"tv\"):\n",
    "        disney_shows.append(row)\n",
    "    else:\n",
    "        others.append(row)"
   ]
  },
  {
   "cell_type": "code",
   "execution_count": 45,
   "metadata": {},
   "outputs": [
    {
     "name": "stdout",
     "output_type": "stream",
     "text": [
      "Disney Movies:  1052\n",
      "Disney TV Shows:  398\n",
      "Disney Others:  0\n"
     ]
    }
   ],
   "source": [
    "print(\"Disney Movies: \", len(disney_movies))\n",
    "print(\"Disney TV Shows: \", len(disney_shows))\n",
    "print(\"Disney Others: \", len(others))"
   ]
  },
  {
   "cell_type": "code",
   "execution_count": 46,
   "metadata": {},
   "outputs": [
    {
     "name": "stdout",
     "output_type": "stream",
     "text": [
      "['s1', 'Movie', 'Duck the Halls: A Mickey Mouse Christmas Special', 'Alonso Ramirez Ramos, Dave Wasson', 'Chris Diamantopoulos, Tony Anselmo, Tress MacNeille, Bill Farmer, Russi Taylor, Corey Burton', '', 'November 26, 2021', '2016', 'TV-G', '23', 'Animation, Family', 'Join Mickey and the gang as they duck the halls!']\n",
      "\n",
      "\n",
      "['s2', 'Movie', 'Ernest Saves Christmas', 'John Cherry', 'Jim Varney, Noelle Parker, Douglas Seale', '', 'November 26, 2021', '1988', 'PG', '91', 'Comedy', 'Santa Claus passes his magic bag to a new St. Nic.']\n",
      "\n",
      "\n",
      "['s3', 'Movie', 'Ice Age: A Mammoth Christmas', 'Karen Disher', 'Raymond Albert Romano, John Leguizamo, Denis Leary, Queen Latifah', 'United States', 'November 26, 2021', '2011', 'TV-G', '23', 'Animation, Comedy, Family', \"Sid the Sloth is on Santa's naughty list.\"]\n",
      "\n",
      "\n",
      "['s4', 'Movie', 'The Queen Family Singalong', 'Hamish Hamilton', 'Darren Criss, Adam Lambert, Derek Hough, Alexander Jean, Fall Out Boy, Jimmie Allen', '', 'November 26, 2021', '2021', 'TV-PG', '41', 'Musical', 'This is real life, not just fantasy!']\n",
      "\n",
      "\n",
      "['s6', 'Movie', 'Becoming Cousteau', 'Liz Garbus', 'Jacques Yves Cousteau, Vincent Cassel', 'United States', 'November 24, 2021', '2021', 'PG-13', '94', 'Biographical, Documentary', 'An inside look at the legendary life of adventurer Jacques-Yves Cousteau.']\n",
      "\n",
      "\n"
     ]
    }
   ],
   "source": [
    "explore_data(disney_movies,0,5,False)"
   ]
  },
  {
   "cell_type": "code",
   "execution_count": 47,
   "metadata": {},
   "outputs": [
    {
     "name": "stdout",
     "output_type": "stream",
     "text": [
      "['s5', 'TV Show', 'The Beatles: Get Back', '', 'John Lennon, Paul McCartney, George Harrison, Ringo Starr', '', 'November 25, 2021', '2021', '', '1 Season', 'Docuseries, Historical, Music', 'A three-part documentary from Peter Jackson capturing a moment in music history with The Beatles.']\n",
      "\n",
      "\n",
      "['s7', 'TV Show', 'Hawkeye', '', 'Jeremy Renner, Hailee Steinfeld, Vera Farmiga, Fra Fee, Tony Dalton, Zahn McClarnon', '', 'November 24, 2021', '2021', 'TV-14', '1 Season', 'Action-Adventure, Superhero', 'Clint Barton/Hawkeye must team up with skilled archer Kate Bishop to unravel a criminal conspiracy.']\n",
      "\n",
      "\n",
      "['s8', 'TV Show', 'Port Protection Alaska', '', 'Gary Muehlberger, Mary Miller, Curly Leach, Sam Carlson, Stuart Andrews, David Squibb', 'United States', 'November 24, 2021', '2015', 'TV-14', '2 Seasons', 'Docuseries, Reality, Survival', 'Residents of Port Protection must combat volatile conditions to survive and thrive in Alaska.']\n",
      "\n",
      "\n",
      "['s9', 'TV Show', 'Secrets of the Zoo: Tampa', '', 'Dr. Ray Ball, Dr. Lauren Smith, Chris Massaro, Tiffany Burns, Mike Burns, Melinda Mendolusky', 'United States', 'November 24, 2021', '2019', 'TV-PG', '2 Seasons', 'Animals & Nature, Docuseries, Family', \"A day in the life at ZooTampa is anything but ordinary. It's extraordinary!\"]\n",
      "\n",
      "\n",
      "['s14', 'TV Show', 'Dr. Oakley, Yukon Vet', '', 'Dr. Michelle Oakley, Zachary Fine', 'United States', 'November 17, 2021', '2013', 'TV-PG', '10 Seasons', 'Action-Adventure, Animals & Nature, Docuseries', 'Meet Dr. Michelle Oakley, vet to pretty much everything that moves in the rugged Yukon.']\n",
      "\n",
      "\n"
     ]
    }
   ],
   "source": [
    "explore_data(disney_shows,0,5,False)"
   ]
  },
  {
   "cell_type": "markdown",
   "metadata": {},
   "source": [
    "## Step 3: Get a list of ratings ##"
   ]
  },
  {
   "cell_type": "code",
   "execution_count": 48,
   "metadata": {},
   "outputs": [],
   "source": [
    "ratings_list = []\n",
    "for row in dp:\n",
    "    if row[8] not in ratings_list:\n",
    "        ratings_list.append(row[8])"
   ]
  },
  {
   "cell_type": "code",
   "execution_count": 49,
   "metadata": {},
   "outputs": [
    {
     "name": "stdout",
     "output_type": "stream",
     "text": [
      "['TV-G', 'PG', 'TV-PG', '', 'PG-13', 'TV-14', 'G', 'TV-Y7', 'TV-Y', 'TV-Y7-FV']\n"
     ]
    }
   ],
   "source": [
    "print(ratings_list)"
   ]
  },
  {
   "attachments": {},
   "cell_type": "markdown",
   "metadata": {},
   "source": [
    "## Step 4: For each corresponding rating get the number of movies and shows. Create a dictionary for this ##"
   ]
  },
  {
   "cell_type": "code",
   "execution_count": 55,
   "metadata": {},
   "outputs": [],
   "source": [
    "def rating_count(dataset_l):\n",
    "    rating_count_l = {}\n",
    "    for row_l in dataset_l:\n",
    "        rating_l = row_l[8]\n",
    "        if rating_l in rating_count_l:\n",
    "            rating_count_l[rating_l] += 1\n",
    "        else:\n",
    "            rating_count_l[rating_l] = 1\n",
    "    sorted_rating_count = dict(sorted(rating_count_l.items(), key=lambda item: item[1], reverse=True))\n",
    "    return sorted_rating_count"
   ]
  },
  {
   "cell_type": "code",
   "execution_count": 56,
   "metadata": {},
   "outputs": [
    {
     "name": "stdout",
     "output_type": "stream",
     "text": [
      "Moview Ratings Count: {'G': 253, 'PG': 235, 'TV-G': 233, 'TV-PG': 181, 'PG-13': 66, 'TV-14': 37, 'TV-Y7': 36, 'TV-Y7-FV': 7, 'TV-Y': 3, '': 1}\n",
      "Shows Ratings Count: {'TV-PG': 120, 'TV-Y7': 95, 'TV-G': 85, 'TV-Y': 47, 'TV-14': 42, 'TV-Y7-FV': 6, '': 2, 'PG': 1}\n"
     ]
    }
   ],
   "source": [
    "print(\"Moview Ratings Count:\", rating_count(disney_movies))\n",
    "print(\"Shows Ratings Count:\", rating_count(disney_shows))"
   ]
  },
  {
   "attachments": {},
   "cell_type": "markdown",
   "metadata": {},
   "source": [
    "## Sort the above dictionary in descending order of counts ##"
   ]
  },
  {
   "attachments": {},
   "cell_type": "markdown",
   "metadata": {},
   "source": [
    "## Step 5: What is the average duration of movies and shows ##"
   ]
  },
  {
   "attachments": {},
   "cell_type": "markdown",
   "metadata": {},
   "source": [
    "The duration of movies is in minutes and shows in seasons. We can convert them to numeric and remove the suffix minutes and seasons"
   ]
  },
  {
   "cell_type": "code",
   "execution_count": 57,
   "metadata": {},
   "outputs": [],
   "source": [
    "def duration_conversion(data_l):\n",
    "    for row_l in data_l:\n",
    "        new_values = []\n",
    "        new_values = row_l[9].split(\" \")\n",
    "        row_l[9] = int(new_values[0])\n",
    "    return data_l"
   ]
  },
  {
   "cell_type": "code",
   "execution_count": null,
   "metadata": {},
   "outputs": [],
   "source": [
    "def average(data_l,loc_l):\n",
    "    sum = 0\n",
    "    for row in data_l:\n",
    "        sum += data_l(loc_l)\n",
    "    return(sum/)"
   ]
  },
  {
   "cell_type": "code",
   "execution_count": 58,
   "metadata": {},
   "outputs": [],
   "source": [
    "disney_movies_mod = duration_conversion(disney_movies)"
   ]
  },
  {
   "cell_type": "code",
   "execution_count": 59,
   "metadata": {},
   "outputs": [
    {
     "name": "stdout",
     "output_type": "stream",
     "text": [
      "['s1', 'Movie', 'Duck the Halls: A Mickey Mouse Christmas Special', 'Alonso Ramirez Ramos, Dave Wasson', 'Chris Diamantopoulos, Tony Anselmo, Tress MacNeille, Bill Farmer, Russi Taylor, Corey Burton', '', 'November 26, 2021', '2016', 'TV-G', 23, 'Animation, Family', 'Join Mickey and the gang as they duck the halls!']\n",
      "\n",
      "\n",
      "['s2', 'Movie', 'Ernest Saves Christmas', 'John Cherry', 'Jim Varney, Noelle Parker, Douglas Seale', '', 'November 26, 2021', '1988', 'PG', 91, 'Comedy', 'Santa Claus passes his magic bag to a new St. Nic.']\n",
      "\n",
      "\n",
      "no. of rows: 1052\n",
      "no. of columns: 12\n"
     ]
    }
   ],
   "source": [
    "explore_data(disney_movies_mod,0,2,True)"
   ]
  },
  {
   "attachments": {},
   "cell_type": "markdown",
   "metadata": {},
   "source": [
    "## Step 6: In which month mostly the movies are released ##"
   ]
  }
 ],
 "metadata": {
  "kernelspec": {
   "display_name": "base",
   "language": "python",
   "name": "python3"
  },
  "language_info": {
   "codemirror_mode": {
    "name": "ipython",
    "version": 3
   },
   "file_extension": ".py",
   "mimetype": "text/x-python",
   "name": "python",
   "nbconvert_exporter": "python",
   "pygments_lexer": "ipython3",
   "version": "3.9.12"
  },
  "orig_nbformat": 4,
  "vscode": {
   "interpreter": {
    "hash": "619b955346cbfe204b67180c22b650d924d6345250d3da715f150ba579a03d34"
   }
  }
 },
 "nbformat": 4,
 "nbformat_minor": 2
}
